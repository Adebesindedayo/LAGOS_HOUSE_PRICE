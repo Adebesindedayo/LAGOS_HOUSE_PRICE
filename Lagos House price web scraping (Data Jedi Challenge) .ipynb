{
 "cells": [
  {
   "cell_type": "markdown",
   "metadata": {},
   "source": [
    "### Web Scraping 101 "
   ]
  },
  {
   "cell_type": "markdown",
   "metadata": {},
   "source": [
    "#### Kindly ensure you have the legal rights to scrape and use data from a site before doing so. Propertypro is more flexible about this as seen in the terms and conditions page however Nigeria Property center is not. Check below for more: \n",
    "\n",
    "#### https://www.propertypro.ng/terms\n",
    "#### https://nigeriapropertycentre.com/terms-of-use "
   ]
  },
  {
   "cell_type": "markdown",
   "metadata": {},
   "source": [
    "#### Import requests-html for making request to a website and scraping. re for regular expressions"
   ]
  },
  {
   "cell_type": "code",
   "execution_count": 1,
   "metadata": {},
   "outputs": [],
   "source": [
    "import requests, re\n",
    "from requests_html import HTMLSession"
   ]
  },
  {
   "cell_type": "markdown",
   "metadata": {},
   "source": [
    "#### Make a request to the website and extract its content (page source)"
   ]
  },
  {
   "cell_type": "code",
   "execution_count": 2,
   "metadata": {},
   "outputs": [],
   "source": [
    "r=requests.get(\"https://www.propertypro.ng/property-for-rent?search=ikorodu\")\n",
    "c=r.content"
   ]
  },
  {
   "cell_type": "markdown",
   "metadata": {},
   "source": [
    "#### Create a Session and make a request to the website and extract its content (page source)"
   ]
  },
  {
   "cell_type": "code",
   "execution_count": 3,
   "metadata": {},
   "outputs": [],
   "source": [
    "session = HTMLSession()\n",
    "r = session.get(f'https://www.propertypro.ng/property-for-rent/in/lagos/ikorodu')"
   ]
  },
  {
   "cell_type": "markdown",
   "metadata": {},
   "source": [
    "#### Find all properties on the page"
   ]
  },
  {
   "cell_type": "code",
   "execution_count": 7,
   "metadata": {},
   "outputs": [
    {
     "data": {
      "text/plain": [
       "[<Element 'div' class=('single-room-text',)>,\n",
       " <Element 'div' class=('single-room-text',)>,\n",
       " <Element 'div' class=('single-room-text',)>,\n",
       " <Element 'div' class=('single-room-text',)>,\n",
       " <Element 'div' class=('single-room-text',)>,\n",
       " <Element 'div' class=('single-room-text',)>,\n",
       " <Element 'div' class=('single-room-text',)>,\n",
       " <Element 'div' class=('single-room-text',)>,\n",
       " <Element 'div' class=('single-room-text',)>,\n",
       " <Element 'div' class=('single-room-text',)>,\n",
       " <Element 'div' class=('single-room-text',)>,\n",
       " <Element 'div' class=('single-room-text',)>,\n",
       " <Element 'div' class=('single-room-text',)>,\n",
       " <Element 'div' class=('single-room-text',)>,\n",
       " <Element 'div' class=('single-room-text',)>,\n",
       " <Element 'div' class=('single-room-text',)>,\n",
       " <Element 'div' class=('single-room-text',)>,\n",
       " <Element 'div' class=('single-room-text',)>,\n",
       " <Element 'div' class=('single-room-text',)>,\n",
       " <Element 'div' class=('single-room-text',)>,\n",
       " <Element 'div' class=('single-room-text',)>]"
      ]
     },
     "execution_count": 7,
     "metadata": {},
     "output_type": "execute_result"
    }
   ],
   "source": [
    "properties = r.html.find('div.single-room-text')\n",
    "properties"
   ]
  },
  {
   "cell_type": "markdown",
   "metadata": {},
   "source": [
    "#### To learn more about HTML tags check the link >>> https://www.w3schools.com/tags/default.asp"
   ]
  },
  {
   "cell_type": "markdown",
   "metadata": {},
   "source": [
    "###### ."
   ]
  },
  {
   "cell_type": "markdown",
   "metadata": {},
   "source": [
    "#### Collect property features on the page.For this add the index of the feature at the end of the code e.g. [0] for bed, [2] for bath.\n",
    "\n",
    "#### This first method is not ideal because the location of the specific feature might change. For example Bed may not come first"
   ]
  },
  {
   "cell_type": "code",
   "execution_count": 8,
   "metadata": {},
   "outputs": [
    {
     "data": {
      "text/plain": [
       "['4', 'beds', '4', 'baths', '4', 'Toilets']"
      ]
     },
     "execution_count": 8,
     "metadata": {},
     "output_type": "execute_result"
    }
   ],
   "source": [
    "properties[2].find('div.fur-areea')[0].text.split()"
   ]
  },
  {
   "cell_type": "markdown",
   "metadata": {},
   "source": [
    "#### This second method uses regular expressions and is a better way to collect feature information, because it checks for the feature before collecting. If the feature does not exist it will give a none. For more on regular expressions check https://www.w3schools.com/python/python_regex.asp "
   ]
  },
  {
   "cell_type": "code",
   "execution_count": 19,
   "metadata": {},
   "outputs": [
    {
     "data": {
      "text/plain": [
       "'4 bath'"
      ]
     },
     "execution_count": 19,
     "metadata": {},
     "output_type": "execute_result"
    }
   ],
   "source": [
    "re.findall(\"..bath\",properties[2].find('div.fur-areea')[0].text)[0].strip()"
   ]
  },
  {
   "cell_type": "markdown",
   "metadata": {},
   "source": [
    "#### You can change div and class below to search for something else. "
   ]
  },
  {
   "cell_type": "code",
   "execution_count": 20,
   "metadata": {},
   "outputs": [
    {
     "data": {
      "text/plain": [
       "'1 beds 1 baths 2 Toilets'"
      ]
     },
     "execution_count": 20,
     "metadata": {},
     "output_type": "execute_result"
    }
   ],
   "source": [
    "properties[3].find('div.fur-areea')[0].text"
   ]
  },
  {
   "cell_type": "markdown",
   "metadata": {},
   "source": [
    "#### Websites typically have a structure which allows for easy automation. For example location and page number can eaasily be changed and the website will respond accordingly. Try changing the location below and page number to surulere and page 2 respectively."
   ]
  },
  {
   "cell_type": "code",
   "execution_count": 14,
   "metadata": {},
   "outputs": [
    {
     "ename": "SyntaxError",
     "evalue": "invalid syntax (<ipython-input-14-7164a8e1540e>, line 1)",
     "output_type": "error",
     "traceback": [
      "\u001b[1;36m  File \u001b[1;32m\"<ipython-input-14-7164a8e1540e>\"\u001b[1;36m, line \u001b[1;32m1\u001b[0m\n\u001b[1;33m    https://www.propertypro.ng/property-for-rent?search=surulere&page=1\u001b[0m\n\u001b[1;37m           ^\u001b[0m\n\u001b[1;31mSyntaxError\u001b[0m\u001b[1;31m:\u001b[0m invalid syntax\n"
     ]
    }
   ],
   "source": [
    "https://www.propertypro.ng/property-for-rent?search=surulere&page=1"
   ]
  },
  {
   "cell_type": "markdown",
   "metadata": {},
   "source": [
    "#### There is a slight challenge from above. You will need to get the total number of pages. This can be calculated using total number of items divided by number of listing on each page. The listing is written within a text so this has to be extracted using regular expressions. "
   ]
  },
  {
   "cell_type": "code",
   "execution_count": 23,
   "metadata": {},
   "outputs": [
    {
     "data": {
      "text/plain": [
       "'Result 1 - 20 of 2345\\nSort By\\nMost Recent\\nLowest Price\\nHighest Price\\nBeds'"
      ]
     },
     "execution_count": 23,
     "metadata": {},
     "output_type": "execute_result"
    }
   ],
   "source": [
    "r.html.find('div.property-sale-number')[0].text"
   ]
  },
  {
   "cell_type": "code",
   "execution_count": 24,
   "metadata": {},
   "outputs": [
    {
     "data": {
      "text/plain": [
       "['1', '20', '2345']"
      ]
     },
     "execution_count": 24,
     "metadata": {},
     "output_type": "execute_result"
    }
   ],
   "source": [
    "re.findall(\"\\d+\",r.html.find('div.property-sale-number')[0].text)"
   ]
  },
  {
   "cell_type": "code",
   "execution_count": 18,
   "metadata": {},
   "outputs": [
    {
     "data": {
      "text/plain": [
       "'5344'"
      ]
     },
     "execution_count": 18,
     "metadata": {},
     "output_type": "execute_result"
    }
   ],
   "source": [
    "re.findall(\"\\d+\",r.html.find('div.property-sale-number')[0].text)[2]"
   ]
  },
  {
   "cell_type": "code",
   "execution_count": 25,
   "metadata": {},
   "outputs": [
    {
     "data": {
      "text/plain": [
       "117"
      ]
     },
     "execution_count": 25,
     "metadata": {},
     "output_type": "execute_result"
    }
   ],
   "source": [
    "items = int(re.findall(\"\\d+\",r.html.find('div.property-sale-number')[0].text)[2])\n",
    "listings = 20\n",
    "page_nr = int(items/listings)\n",
    "page_nr"
   ]
  },
  {
   "cell_type": "markdown",
   "metadata": {},
   "source": [
    "#### The code below is used to extract the details on just one page per location. You can update the code to scrape multiple pages and locations or write your own code. Please as indicated in the instructions, do not scrape multiple locations or pages until off peak hours (>6pm) to avoid overloading the site.\n"
   ]
  },
  {
   "cell_type": "code",
   "execution_count": null,
   "metadata": {},
   "outputs": [],
   "source": [
    "#session = HTMLSession()"
   ]
  },
  {
   "cell_type": "code",
   "execution_count": 26,
   "metadata": {},
   "outputs": [],
   "source": [
    "l = []\n",
    "LP1= \"lekki/lekki-phase-1\"\n",
    "locations = [\"gbagada\", LP1, \"ajah\", \"ikorodu\", \"surulere\", \"yaba\", \"ikeja\"]\n",
    "\n",
    "for place in locations:\n",
    "\n",
    "    r = session.get(f'https://www.propertypro.ng/property-for-rent/in/lagos/'+place)\n",
    "\n",
    "    items = int(re.findall(\"\\d+\",r.html.find('div.property-sale-number')[0].text)[2])\n",
    "    listings = 20\n",
    "    pages = int(items/listings) + 1\n",
    "\n",
    "    for page in range(pages):\n",
    "\n",
    "        r = session.get(f'https://www.propertypro.ng/property-for-rent/in/lagos/'+place+\"?page=\"+str(page))\n",
    "        properties = r.html.find('div.single-room-text')\n",
    "        #base_url=\"https://www.propertypro.ng/property-for-rent?search=\"+place+ \"&auto=&type=&bedroom=&max_price=\"\n",
    "     \n",
    "        for i in list(range(0,len(properties))):\n",
    "            d={}\n",
    "            d[\"location\"] = place\n",
    "            try:\n",
    "                d[\"specific_location\"] = properties[i].find('h4')[0].text\n",
    "            except (IndexError,TypeError,AttributeError):\n",
    "                d[\"location\"] = None\n",
    "            try:\n",
    "                d[\"features\"]= properties[i].find('div.fur-areea')[0].text \n",
    "            except (AttributeError,IndexError) as e:\n",
    "                d[\"features\"]= None\n",
    "            try:\n",
    "                d[\"bed\"]= int(re.findall(\"..bed\",properties[i].find('div.fur-areea')[0].text)[0].strip()[0][0])\n",
    "            except (IndexError,TypeError,AttributeError,ValueError) as e:\n",
    "                d[\"bed\"]= 0 \n",
    "            try:\n",
    "                d[\"bath\"]= int(re.findall(\"..bath\",properties[i].find('div.fur-areea')[0].text)[0].strip()[0][0])\n",
    "            except (IndexError,TypeError,AttributeError,ValueError) as e:\n",
    "                d[\"bath\"]= 0\n",
    "            try:\n",
    "                d[\"toilet\"]= int(re.findall(\"..Toilet\",properties[i].find('div.fur-areea')[0].text)[0].strip()[0][0])\n",
    "            except (IndexError,TypeError,AttributeError,ValueError) as e:\n",
    "                d[\"toilet\"]= 0\n",
    "            try:\n",
    "                d[\"description\"]= properties[i].find('h3.listings-property-title2')[0].text\n",
    "            except (IndexError,TypeError,AttributeError) as e:\n",
    "                d[\"description\"]= None\n",
    "\n",
    "            try:\n",
    "                d[\"price\"]= properties[i].find('h3.listings-price')[0].text.replace(\"₦ \",\"\").replace(\",\",\"\")\n",
    "            except (IndexError,TypeError,AttributeError) as e:\n",
    "                d[\"price\"] = None\n",
    "            l.append(d)"
   ]
  },
  {
   "cell_type": "markdown",
   "metadata": {},
   "source": [
    "#### Convert output to dataframe"
   ]
  },
  {
   "cell_type": "code",
   "execution_count": 27,
   "metadata": {
    "scrolled": true
   },
   "outputs": [
    {
     "data": {
      "text/html": [
       "<div>\n",
       "<style scoped>\n",
       "    .dataframe tbody tr th:only-of-type {\n",
       "        vertical-align: middle;\n",
       "    }\n",
       "\n",
       "    .dataframe tbody tr th {\n",
       "        vertical-align: top;\n",
       "    }\n",
       "\n",
       "    .dataframe thead th {\n",
       "        text-align: right;\n",
       "    }\n",
       "</style>\n",
       "<table border=\"1\" class=\"dataframe\">\n",
       "  <thead>\n",
       "    <tr style=\"text-align: right;\">\n",
       "      <th></th>\n",
       "      <th>location</th>\n",
       "      <th>specific_location</th>\n",
       "      <th>features</th>\n",
       "      <th>bed</th>\n",
       "      <th>bath</th>\n",
       "      <th>toilet</th>\n",
       "      <th>description</th>\n",
       "      <th>price</th>\n",
       "    </tr>\n",
       "  </thead>\n",
       "  <tbody>\n",
       "    <tr>\n",
       "      <th>0</th>\n",
       "      <td>gbagada</td>\n",
       "      <td>Diya Street, Ifako GbagadaIfako Gbagada Gbagad...</td>\n",
       "      <td>beds baths Toilets</td>\n",
       "      <td>0</td>\n",
       "      <td>0</td>\n",
       "      <td>0</td>\n",
       "      <td>Open Plan office space</td>\n",
       "      <td>1500000</td>\n",
       "    </tr>\n",
       "    <tr>\n",
       "      <th>1</th>\n",
       "      <td>gbagada</td>\n",
       "      <td>Diya Street, Ifako GbagadaIfako Gbagada Gbagad...</td>\n",
       "      <td>beds baths 1 Toilets</td>\n",
       "      <td>0</td>\n",
       "      <td>0</td>\n",
       "      <td>1</td>\n",
       "      <td>Open Plan office space</td>\n",
       "      <td>1500000</td>\n",
       "    </tr>\n",
       "    <tr>\n",
       "      <th>2</th>\n",
       "      <td>gbagada</td>\n",
       "      <td>Phase 1Phase 1 Gbagada Lagos</td>\n",
       "      <td>4 beds 4 baths 4 Toilets</td>\n",
       "      <td>4</td>\n",
       "      <td>4</td>\n",
       "      <td>4</td>\n",
       "      <td>Tastefully Finished 4Bedroom Terraced Duplex i...</td>\n",
       "      <td>65000000</td>\n",
       "    </tr>\n",
       "    <tr>\n",
       "      <th>3</th>\n",
       "      <td>gbagada</td>\n",
       "      <td>Sawmill Gbagada Ifako Gbagada Gbagada Lagos</td>\n",
       "      <td>2 beds 2 baths 3 Toilets</td>\n",
       "      <td>2</td>\n",
       "      <td>2</td>\n",
       "      <td>3</td>\n",
       "      <td>5 units of Newly built 2 bedrooms up n ground ...</td>\n",
       "      <td>1200000</td>\n",
       "    </tr>\n",
       "    <tr>\n",
       "      <th>4</th>\n",
       "      <td>gbagada</td>\n",
       "      <td>Ifako Gbagada Gbagada Lagos</td>\n",
       "      <td>2 beds 2 baths 3 Toilets</td>\n",
       "      <td>2</td>\n",
       "      <td>2</td>\n",
       "      <td>3</td>\n",
       "      <td>Newly built executive 2bedroom duplex with mod...</td>\n",
       "      <td>1500000</td>\n",
       "    </tr>\n",
       "    <tr>\n",
       "      <th>...</th>\n",
       "      <td>...</td>\n",
       "      <td>...</td>\n",
       "      <td>...</td>\n",
       "      <td>...</td>\n",
       "      <td>...</td>\n",
       "      <td>...</td>\n",
       "      <td>...</td>\n",
       "      <td>...</td>\n",
       "    </tr>\n",
       "    <tr>\n",
       "      <th>46029</th>\n",
       "      <td>ikeja</td>\n",
       "      <td>Taiye Olowu Street Off Victoria Arobieke. Lekk...</td>\n",
       "      <td>1 beds 1 baths 2 Toilets</td>\n",
       "      <td>1</td>\n",
       "      <td>1</td>\n",
       "      <td>2</td>\n",
       "      <td>Luxury 1 (One) Bedroom Flat</td>\n",
       "      <td>None</td>\n",
       "    </tr>\n",
       "    <tr>\n",
       "      <th>46030</th>\n",
       "      <td>ikeja</td>\n",
       "      <td>Gbemisola House1 Obafemi Awolowo wayIkeja Ikej...</td>\n",
       "      <td>beds baths 10 Toilets</td>\n",
       "      <td>0</td>\n",
       "      <td>0</td>\n",
       "      <td>0</td>\n",
       "      <td>office space</td>\n",
       "      <td>10000000</td>\n",
       "    </tr>\n",
       "    <tr>\n",
       "      <th>46031</th>\n",
       "      <td>ikeja</td>\n",
       "      <td>off opebiIkeja Ikeja Lagos</td>\n",
       "      <td>3 beds 3 baths 3 Toilets</td>\n",
       "      <td>3</td>\n",
       "      <td>3</td>\n",
       "      <td>3</td>\n",
       "      <td>6 units of 3 bedroom flat</td>\n",
       "      <td>2000000</td>\n",
       "    </tr>\n",
       "    <tr>\n",
       "      <th>46032</th>\n",
       "      <td>ikeja</td>\n",
       "      <td>remi fani kayode streetIkeja Ikeja Lagos</td>\n",
       "      <td>4 beds 4 baths 5 Toilets</td>\n",
       "      <td>4</td>\n",
       "      <td>4</td>\n",
       "      <td>5</td>\n",
       "      <td>2 units of a terrace apartment+ bq</td>\n",
       "      <td>6000000</td>\n",
       "    </tr>\n",
       "    <tr>\n",
       "      <th>46033</th>\n",
       "      <td>ikeja</td>\n",
       "      <td>Allen AvenueIkeja Ikeja Lagos</td>\n",
       "      <td>beds 4 baths Toilets</td>\n",
       "      <td>0</td>\n",
       "      <td>4</td>\n",
       "      <td>0</td>\n",
       "      <td>458 Square Foot Office Space</td>\n",
       "      <td>9160000</td>\n",
       "    </tr>\n",
       "  </tbody>\n",
       "</table>\n",
       "<p>46034 rows × 8 columns</p>\n",
       "</div>"
      ],
      "text/plain": [
       "      location                                  specific_location  \\\n",
       "0      gbagada  Diya Street, Ifako GbagadaIfako Gbagada Gbagad...   \n",
       "1      gbagada  Diya Street, Ifako GbagadaIfako Gbagada Gbagad...   \n",
       "2      gbagada                       Phase 1Phase 1 Gbagada Lagos   \n",
       "3      gbagada        Sawmill Gbagada Ifako Gbagada Gbagada Lagos   \n",
       "4      gbagada                        Ifako Gbagada Gbagada Lagos   \n",
       "...        ...                                                ...   \n",
       "46029    ikeja  Taiye Olowu Street Off Victoria Arobieke. Lekk...   \n",
       "46030    ikeja  Gbemisola House1 Obafemi Awolowo wayIkeja Ikej...   \n",
       "46031    ikeja                         off opebiIkeja Ikeja Lagos   \n",
       "46032    ikeja           remi fani kayode streetIkeja Ikeja Lagos   \n",
       "46033    ikeja                      Allen AvenueIkeja Ikeja Lagos   \n",
       "\n",
       "                       features  bed  bath  toilet  \\\n",
       "0            beds baths Toilets    0     0       0   \n",
       "1          beds baths 1 Toilets    0     0       1   \n",
       "2      4 beds 4 baths 4 Toilets    4     4       4   \n",
       "3      2 beds 2 baths 3 Toilets    2     2       3   \n",
       "4      2 beds 2 baths 3 Toilets    2     2       3   \n",
       "...                         ...  ...   ...     ...   \n",
       "46029  1 beds 1 baths 2 Toilets    1     1       2   \n",
       "46030     beds baths 10 Toilets    0     0       0   \n",
       "46031  3 beds 3 baths 3 Toilets    3     3       3   \n",
       "46032  4 beds 4 baths 5 Toilets    4     4       5   \n",
       "46033      beds 4 baths Toilets    0     4       0   \n",
       "\n",
       "                                             description     price  \n",
       "0                                 Open Plan office space   1500000  \n",
       "1                                 Open Plan office space   1500000  \n",
       "2      Tastefully Finished 4Bedroom Terraced Duplex i...  65000000  \n",
       "3      5 units of Newly built 2 bedrooms up n ground ...   1200000  \n",
       "4      Newly built executive 2bedroom duplex with mod...   1500000  \n",
       "...                                                  ...       ...  \n",
       "46029                        Luxury 1 (One) Bedroom Flat      None  \n",
       "46030                                       office space  10000000  \n",
       "46031                          6 units of 3 bedroom flat   2000000  \n",
       "46032                 2 units of a terrace apartment+ bq   6000000  \n",
       "46033                       458 Square Foot Office Space   9160000  \n",
       "\n",
       "[46034 rows x 8 columns]"
      ]
     },
     "execution_count": 27,
     "metadata": {},
     "output_type": "execute_result"
    }
   ],
   "source": [
    "import pandas as pd\n",
    "ld = pd.DataFrame(l)\n",
    "ld"
   ]
  },
  {
   "cell_type": "code",
   "execution_count": 28,
   "metadata": {},
   "outputs": [],
   "source": [
    "ld.to_csv(\"House_prices_lagos7.csv\")"
   ]
  },
  {
   "cell_type": "code",
   "execution_count": null,
   "metadata": {},
   "outputs": [],
   "source": []
  },
  {
   "cell_type": "code",
   "execution_count": 6,
   "metadata": {},
   "outputs": [
    {
     "data": {
      "text/plain": [
       "[<Element 'ul' class=('extra-listings',)>,\n",
       " <Element 'ul' class=('extra-listings',)>,\n",
       " <Element 'ul' class=('extra-listings',)>,\n",
       " <Element 'ul' class=('extra-listings',)>]"
      ]
     },
     "execution_count": 6,
     "metadata": {},
     "output_type": "execute_result"
    }
   ],
   "source": [
    "properties = r.html.find('ul.extra-listings')\n",
    "properties"
   ]
  },
  {
   "cell_type": "code",
   "execution_count": 13,
   "metadata": {},
   "outputs": [],
   "source": [
    "n = properties[3].text.split(\"|\\n\")"
   ]
  },
  {
   "cell_type": "code",
   "execution_count": 20,
   "metadata": {},
   "outputs": [],
   "source": [
    "prop = [c.replace(\" \", \"\") for c in n]"
   ]
  },
  {
   "cell_type": "code",
   "execution_count": 21,
   "metadata": {},
   "outputs": [
    {
     "data": {
      "text/plain": [
       "['Agric',\n",
       " 'AkuteAjuwon',\n",
       " 'Apeka',\n",
       " 'Ebute',\n",
       " 'Ibeshe',\n",
       " 'Igbogbo',\n",
       " 'Ijede',\n",
       " 'Ikorodu',\n",
       " 'Ipakodo',\n",
       " 'Isawo',\n",
       " 'Jumofak',\n",
       " 'Maya',\n",
       " 'Odongunyan']"
      ]
     },
     "execution_count": 21,
     "metadata": {},
     "output_type": "execute_result"
    }
   ],
   "source": [
    "prop"
   ]
  },
  {
   "cell_type": "code",
   "execution_count": null,
   "metadata": {},
   "outputs": [],
   "source": []
  }
 ],
 "metadata": {
  "kernelspec": {
   "display_name": "Python 3",
   "language": "python",
   "name": "python3"
  },
  "language_info": {
   "codemirror_mode": {
    "name": "ipython",
    "version": 3
   },
   "file_extension": ".py",
   "mimetype": "text/x-python",
   "name": "python",
   "nbconvert_exporter": "python",
   "pygments_lexer": "ipython3",
   "version": "3.7.6"
  }
 },
 "nbformat": 4,
 "nbformat_minor": 2
}
